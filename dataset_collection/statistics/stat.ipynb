{
 "cells": [
  {
   "cell_type": "markdown",
   "metadata": {},
   "source": [
    "# compute number of nodes"
   ]
  },
  {
   "cell_type": "code",
   "execution_count": null,
   "metadata": {},
   "outputs": [],
   "source": [
    "driver = get_driver(file=\"../all_data/340.html\", headless=False)\n",
    "driver.get(\"file:///\" + os.path.abspath(\"../all_data/WebSight_5.html\"))   "
   ]
  },
  {
   "cell_type": "code",
   "execution_count": 21,
   "metadata": {},
   "outputs": [
    {
     "data": {
      "application/vnd.jupyter.widget-view+json": {
       "model_id": "d098ff72b1c640dab89adfded3294baa",
       "version_major": 2,
       "version_minor": 0
      },
      "text/plain": [
       "Processing:   0%|          | 0/498 [00:00<?, ?it/s]"
      ]
     },
     "metadata": {},
     "output_type": "display_data"
    },
    {
     "name": "stdout",
     "output_type": "stream",
     "text": [
      "Processing ../all_data/340.html\n",
      "Processing ../all_data/WebSight_5.html\n",
      "Processing ../all_data/655.html\n",
      "Processing ../all_data/WebSight_276.html\n",
      "Processing ../all_data/WebSight_299.html\n",
      "Processing ../all_data/252.html\n",
      "Processing ../all_data/WebSight_108.html\n",
      "Processing ../all_data/WebSight_221.html\n",
      "Processing ../all_data/WebSight_83.html\n",
      "Processing ../all_data/194.html\n",
      "Processing ../all_data/244.html\n",
      "Processing ../all_data/WebSight_237.html\n",
      "Processing ../all_data/WebSight_95.html\n",
      "Processing ../all_data/881.html\n",
      "Processing ../all_data/WebSight_149.html\n",
      "Processing ../all_data/WebSight_260.html\n",
      "Processing ../all_data/585.html\n",
      "Processing ../all_data/268.html\n",
      "Processing ../all_data/WebSight_132.html\n",
      "Processing ../all_data/WebSight_56.html\n",
      "Processing ../all_data/842.html\n",
      "Processing ../all_data/WebSight_165.html\n",
      "Processing ../all_data/403.html\n",
      "Processing ../all_data/WebSight_173.html\n",
      "Processing ../all_data/946.html\n",
      "Processing ../all_data/WebSight_17.html\n",
      "Processing ../all_data/1135.html\n",
      "Processing ../all_data/550.html\n",
      "Processing ../all_data/58.html\n",
      "Processing ../all_data/WebSight_124.html\n",
      "Processing ../all_data/1027.html\n",
      "Processing ../all_data/WebSight_40.html\n",
      "Processing ../all_data/WebSight_37.html\n",
      "Processing ../all_data/1115.html\n",
      "Processing ../all_data/WebSight_295.html\n",
      "Processing ../all_data/1050.html\n",
      "Processing ../all_data/435.html\n",
      "Processing ../all_data/WebSight_153.html\n",
      "Processing ../all_data/WebSight_9.html\n",
      "Processing ../all_data/WebSight_60.html\n",
      "Processing ../all_data/198.html\n",
      "Processing ../all_data/931.html\n",
      "Processing ../all_data/WebSight_104.html\n",
      "Processing ../all_data/WebSight_76.html\n",
      "Processing ../all_data/39.html\n",
      "Processing ../all_data/WebSight_99.html\n",
      "Processing ../all_data/WebSight_112.html\n",
      "Processing ../all_data/WebSight_21.html\n",
      "Processing ../all_data/423.html\n",
      "Processing ../all_data/1046.html\n",
      "Processing ../all_data/WebSight_283.html\n",
      "Processing ../all_data/WebSight_145.html\n",
      "Processing ../all_data/1197.html\n",
      "Processing ../all_data/WebSight_217.html\n",
      "Processing ../all_data/321.html\n",
      "Processing ../all_data/1085.html\n",
      "Processing ../all_data/WebSight_240.html\n",
      "Processing ../all_data/1206.html\n",
      "Processing ../all_data/WebSight_169.html\n",
      "Processing ../all_data/WebSight_186.html\n",
      "Processing ../all_data/376.html\n",
      "Processing ../all_data/WebSight_256.html\n",
      "Processing ../all_data/54.html\n",
      "Processing ../all_data/1139.html\n",
      "Processing ../all_data/360.html\n",
      "Processing ../all_data/WebSight_190.html\n",
      "Processing ../all_data/WebSight_201.html\n",
      "Processing ../all_data/WebSight_128.html\n",
      "Processing ../all_data/273.html\n",
      "Processing ../all_data/WebSight_129.html\n",
      "Processing ../all_data/859.html\n",
      "Processing ../all_data/WebSight_200.html\n",
      "Processing ../all_data/224.html\n",
      "Processing ../all_data/WebSight_191.html\n",
      "Processing ../all_data/WebSight_257.html\n",
      "Processing ../all_data/WebSight_168.html\n",
      "Processing ../all_data/WebSight_187.html\n",
      "Processing ../all_data/1084.html\n",
      "Processing ../all_data/WebSight_241.html\n",
      "Processing ../all_data/459.html\n",
      "Processing ../all_data/WebSight_216.html\n",
      "Processing ../all_data/WebSight_144.html\n",
      "Processing ../all_data/834.html\n",
      "Processing ../all_data/137.html\n",
      "Processing ../all_data/1102.html\n",
      "Processing ../all_data/WebSight_20.html\n",
      "Processing ../all_data/422.html\n",
      "Processing ../all_data/1047.html\n",
      "Processing ../all_data/588.html\n",
      "Processing ../all_data/WebSight_282.html\n",
      "Processing ../all_data/WebSight_113.html\n",
      "Processing ../all_data/WebSight_77.html\n",
      "Processing ../all_data/38.html\n",
      "Processing ../all_data/WebSight_98.html\n",
      "Processing ../all_data/WebSight_105.html\n",
      "Processing ../all_data/WebSight_61.html\n",
      "Processing ../all_data/658.html\n",
      "Processing ../all_data/WebSight_152.html\n",
      "Processing ../all_data/WebSight_8.html\n",
      "Processing ../all_data/WebSight_36.html\n",
      "Processing ../all_data/822.html\n",
      "Processing ../all_data/WebSight_294.html\n",
      "Processing ../all_data/156.html\n",
      "Processing ../all_data/WebSight_41.html\n",
      "Processing ../all_data/WebSight_125.html\n",
      "Processing ../all_data/WebSight_16.html\n",
      "Processing ../all_data/678.html\n",
      "Processing ../all_data/WebSight_172.html\n",
      "Processing ../all_data/814.html\n",
      "Processing ../all_data/1088.html\n",
      "Processing ../all_data/WebSight_164.html\n",
      "Processing ../all_data/1175.html\n",
      "Processing ../all_data/WebSight_57.html\n",
      "Processing ../all_data/WebSight_133.html\n",
      "Processing ../all_data/WebSight_261.html\n",
      "Processing ../all_data/707.html\n",
      "Processing ../all_data/WebSight_148.html\n",
      "Processing ../all_data/WebSight_236.html\n",
      "Processing ../all_data/WebSight_94.html\n",
      "Processing ../all_data/880.html\n",
      "Processing ../all_data/WebSight_220.html\n",
      "Processing ../all_data/WebSight_82.html\n",
      "Processing ../all_data/603.html\n",
      "Processing ../all_data/WebSight_109.html\n",
      "Processing ../all_data/WebSight_277.html\n",
      "Processing ../all_data/75.html\n",
      "Processing ../all_data/1118.html\n",
      "Processing ../all_data/WebSight_298.html\n",
      "Processing ../all_data/341.html\n",
      "Processing ../all_data/WebSight_4.html\n",
      "Processing ../all_data/654.html\n",
      "Processing ../all_data/825.html\n",
      "Processing ../all_data/WebSight_31.html\n",
      "Processing ../all_data/WebSight_293.html\n",
      "Processing ../all_data/WebSight_155.html\n",
      "Processing ../all_data/WebSight_66.html\n",
      "Processing ../all_data/WebSight_89.html\n",
      "Processing ../all_data/WebSight_102.html\n",
      "Processing ../all_data/864.html\n",
      "Processing ../all_data/WebSight_70.html\n",
      "Processing ../all_data/WebSight_114.html\n",
      "Processing ../all_data/WebSight_27.html\n",
      "Processing ../all_data/87.html\n",
      "Processing ../all_data/WebSight_285.html\n",
      "Processing ../all_data/425.html\n",
      "Processing ../all_data/WebSight_143.html\n",
      "Processing ../all_data/WebSight_211.html\n",
      "Processing ../all_data/WebSight_138.html\n",
      "Processing ../all_data/WebSight_246.html\n",
      "Processing ../all_data/1083.html\n",
      "Processing ../all_data/370.html\n",
      "Processing ../all_data/WebSight_180.html\n",
      "Processing ../all_data/52.html\n",
      "Processing ../all_data/WebSight_250.html\n",
      "Processing ../all_data/223.html\n",
      "Processing ../all_data/673.html\n",
      "Processing ../all_data/WebSight_179.html\n",
      "Processing ../all_data/WebSight_196.html\n",
      "Processing ../all_data/1187.html\n",
      "Processing ../all_data/WebSight_207.html\n",
      "Processing ../all_data/274.html\n",
      "Processing ../all_data/203.html\n",
      "Processing ../all_data/WebSight_3.html\n",
      "Processing ../all_data/WebSight_159.html\n",
      "Processing ../all_data/983.html\n",
      "Processing ../all_data/WebSight_270.html\n",
      "Processing ../all_data/829.html\n",
      "Processing ../all_data/595.html\n",
      "Processing ../all_data/604.html\n",
      "Processing ../all_data/WebSight_227.html\n",
      "Processing ../all_data/WebSight_85.html\n",
      "Processing ../all_data/WebSight_118.html\n",
      "Processing ../all_data/WebSight_231.html\n",
      "Processing ../all_data/868.html\n",
      "Processing ../all_data/WebSight_93.html\n",
      "Processing ../all_data/184.html\n",
      "Processing ../all_data/WebSight_266.html\n",
      "Processing ../all_data/995.html\n",
      "Processing ../all_data/WebSight_289.html\n",
      "Processing ../all_data/WebSight_134.html\n",
      "Processing ../all_data/147.html\n",
      "Processing ../all_data/WebSight_50.html\n",
      "Processing ../all_data/WebSight_163.html\n",
      "Processing ../all_data/956.html\n",
      "Processing ../all_data/540.html\n",
      "Processing ../all_data/WebSight_175.html\n",
      "Processing ../all_data/WebSight_11.html\n",
      "Processing ../all_data/628.html\n",
      "Processing ../all_data/WebSight_122.html\n",
      "Processing ../all_data/297.html\n",
      "Processing ../all_data/WebSight_46.html\n",
      "Processing ../all_data/151.html\n",
      "Processing ../all_data/WebSight_47.html\n",
      "Processing ../all_data/853.html\n",
      "Processing ../all_data/WebSight_123.html\n",
      "Processing ../all_data/412.html\n",
      "Processing ../all_data/WebSight_10.html\n",
      "Processing ../all_data/WebSight_174.html\n",
      "Processing ../all_data/404.html\n",
      "Processing ../all_data/392.html\n",
      "Processing ../all_data/668.html\n",
      "Processing ../all_data/WebSight_162.html\n",
      "Processing ../all_data/1036.html\n",
      "Processing ../all_data/845.html\n",
      "Processing ../all_data/146.html\n",
      "Processing ../all_data/WebSight_51.html\n",
      "Processing ../all_data/516.html\n",
      "Processing ../all_data/WebSight_135.html\n",
      "Processing ../all_data/WebSight_267.html\n",
      "Processing ../all_data/WebSight_288.html\n",
      "Processing ../all_data/32.html\n",
      "Processing ../all_data/WebSight_230.html\n",
      "Processing ../all_data/WebSight_92.html\n",
      "Processing ../all_data/WebSight_119.html\n",
      "Processing ../all_data/WebSight_226.html\n",
      "Processing ../all_data/WebSight_84.html\n",
      "Processing ../all_data/605.html\n",
      "Processing ../all_data/WebSight_271.html\n",
      "Processing ../all_data/828.html\n",
      "Processing ../all_data/202.html\n",
      "Processing ../all_data/WebSight_2.html\n",
      "Processing ../all_data/WebSight_158.html\n",
      "Processing ../all_data/625.html\n",
      "Processing ../all_data/WebSight_206.html\n",
      "Processing ../all_data/WebSight_178.html\n",
      "Processing ../all_data/WebSight_197.html\n",
      "Processing ../all_data/WebSight_251.html\n",
      "Processing ../all_data/WebSight_181.html\n",
      "Processing ../all_data/WebSight_247.html\n",
      "Processing ../all_data/WebSight_139.html\n",
      "Processing ../all_data/12.html\n",
      "Processing ../all_data/WebSight_210.html\n",
      "Processing ../all_data/648.html\n",
      "Processing ../all_data/WebSight_142.html\n",
      "Processing ../all_data/WebSight_26.html\n",
      "Processing ../all_data/69.html\n",
      "Processing ../all_data/WebSight_284.html\n",
      "Processing ../all_data/424.html\n",
      "Processing ../all_data/WebSight_115.html\n",
      "Processing ../all_data/865.html\n",
      "Processing ../all_data/WebSight_71.html\n",
      "Processing ../all_data/WebSight_103.html\n",
      "Processing ../all_data/WebSight_67.html\n",
      "Processing ../all_data/936.html\n",
      "Processing ../all_data/WebSight_88.html\n",
      "Processing ../all_data/WebSight_154.html\n",
      "Processing ../all_data/WebSight_30.html\n",
      "Processing ../all_data/WebSight_292.html\n",
      "Processing ../all_data/626.html\n",
      "Processing ../all_data/WebSight_48.html\n",
      "Processing ../all_data/WebSight_205.html\n",
      "Processing ../all_data/WebSight_194.html\n",
      "Processing ../all_data/WebSight_252.html\n",
      "Processing ../all_data/108.html\n",
      "Processing ../all_data/WebSight_182.html\n",
      "Processing ../all_data/372.html\n",
      "Processing ../all_data/1202.html\n",
      "Processing ../all_data/WebSight_244.html\n",
      "Processing ../all_data/WebSight_213.html\n",
      "Processing ../all_data/WebSight_141.html\n",
      "Processing ../all_data/WebSight_287.html\n",
      "Processing ../all_data/WebSight_268.html\n",
      "Processing ../all_data/WebSight_25.html\n",
      "Processing ../all_data/WebSight_116.html\n",
      "Processing ../all_data/WebSight_72.html\n",
      "Processing ../all_data/1150.html\n",
      "Processing ../all_data/WebSight_100.html\n",
      "Processing ../all_data/WebSight_229.html\n",
      "Processing ../all_data/WebSight_64.html\n",
      "Processing ../all_data/WebSight_157.html\n",
      "Processing ../all_data/WebSight_291.html\n",
      "Processing ../all_data/431.html\n",
      "Processing ../all_data/WebSight_33.html\n",
      "Processing ../all_data/WebSight_209.html\n",
      "Processing ../all_data/WebSight_44.html\n",
      "Processing ../all_data/WebSight_120.html\n",
      "Processing ../all_data/WebSight_13.html\n",
      "Processing ../all_data/WebSight_198.html\n",
      "Processing ../all_data/368.html\n",
      "Processing ../all_data/WebSight_177.html\n",
      "Processing ../all_data/WebSight_248.html\n",
      "Processing ../all_data/WebSight_161.html\n",
      "Processing ../all_data/WebSight_52.html\n",
      "Processing ../all_data/515.html\n",
      "Processing ../all_data/846.html\n",
      "Processing ../all_data/WebSight_136.html\n",
      "Processing ../all_data/581.html\n",
      "Processing ../all_data/WebSight_29.html\n",
      "Processing ../all_data/WebSight_264.html\n",
      "Processing ../all_data/352.html\n",
      "Processing ../all_data/WebSight_91.html\n",
      "Processing ../all_data/186.html\n",
      "Processing ../all_data/885.html\n",
      "Processing ../all_data/WebSight_233.html\n",
      "Processing ../all_data/493.html\n",
      "Processing ../all_data/240.html\n",
      "Processing ../all_data/WebSight_87.html\n",
      "Processing ../all_data/WebSight_68.html\n",
      "Processing ../all_data/WebSight_225.html\n",
      "Processing ../all_data/313.html\n",
      "Processing ../all_data/70.html\n",
      "Processing ../all_data/WebSight_272.html\n",
      "Processing ../all_data/128.html\n",
      "Processing ../all_data/WebSight_1.html\n",
      "Processing ../all_data/WebSight_0.html\n",
      "Processing ../all_data/200.html\n",
      "Processing ../all_data/WebSight_273.html\n",
      "Processing ../all_data/938.html\n",
      "Processing ../all_data/WebSight_86.html\n",
      "Processing ../all_data/WebSight_69.html\n",
      "Processing ../all_data/WebSight_224.html\n",
      "Processing ../all_data/26.html\n",
      "Processing ../all_data/WebSight_90.html\n",
      "Processing ../all_data/30.html\n",
      "Processing ../all_data/WebSight_232.html\n",
      "Processing ../all_data/492.html\n",
      "Processing ../all_data/353.html\n",
      "Processing ../all_data/580.html\n",
      "Processing ../all_data/WebSight_28.html\n",
      "Processing ../all_data/WebSight_265.html\n",
      "Processing ../all_data/WebSight_137.html\n",
      "Processing ../all_data/WebSight_53.html\n",
      "Processing ../all_data/847.html\n",
      "Processing ../all_data/451.html\n",
      "Processing ../all_data/WebSight_160.html\n",
      "Processing ../all_data/WebSight_249.html\n",
      "Processing ../all_data/810.html\n",
      "Processing ../all_data/406.html\n",
      "Processing ../all_data/WebSight_199.html\n",
      "Processing ../all_data/369.html\n",
      "Processing ../all_data/386.html\n",
      "Processing ../all_data/WebSight_176.html\n",
      "Processing ../all_data/105.html\n",
      "Processing ../all_data/WebSight_12.html\n",
      "Processing ../all_data/WebSight_121.html\n",
      "Processing ../all_data/WebSight_208.html\n",
      "Processing ../all_data/502.html\n",
      "Processing ../all_data/WebSight_45.html\n",
      "Processing ../all_data/WebSight_290.html\n",
      "Processing ../all_data/WebSight_32.html\n",
      "Processing ../all_data/826.html\n",
      "Processing ../all_data/WebSight_156.html\n",
      "Processing ../all_data/WebSight_228.html\n",
      "Processing ../all_data/1147.html\n",
      "Processing ../all_data/WebSight_65.html\n",
      "Processing ../all_data/488.html\n",
      "Processing ../all_data/WebSight_101.html\n",
      "Processing ../all_data/471.html\n",
      "Processing ../all_data/164.html\n",
      "Processing ../all_data/WebSight_73.html\n",
      "Processing ../all_data/WebSight_117.html\n",
      "Processing ../all_data/1043.html\n",
      "Processing ../all_data/WebSight_286.html\n",
      "Processing ../all_data/WebSight_269.html\n",
      "Processing ../all_data/WebSight_24.html\n",
      "Processing ../all_data/WebSight_140.html\n",
      "Processing ../all_data/WebSight_212.html\n",
      "Processing ../all_data/WebSight_245.html\n",
      "Processing ../all_data/WebSight_183.html\n",
      "Processing ../all_data/689.html\n",
      "Processing ../all_data/WebSight_253.html\n",
      "Processing ../all_data/1079.html\n",
      "Processing ../all_data/365.html\n",
      "Processing ../all_data/WebSight_195.html\n",
      "Processing ../all_data/WebSight_49.html\n",
      "Processing ../all_data/WebSight_204.html\n",
      "Processing ../all_data/627.html\n",
      "Processing ../all_data/WebSight_42.html\n",
      "Processing ../all_data/1025.html\n",
      "Processing ../all_data/339.html\n",
      "Processing ../all_data/WebSight_126.html\n",
      "Processing ../all_data/WebSight_258.html\n",
      "Processing ../all_data/WebSight_15.html\n",
      "Processing ../all_data/102.html\n",
      "Processing ../all_data/417.html\n",
      "Processing ../all_data/WebSight_171.html\n",
      "Processing ../all_data/952.html\n",
      "Processing ../all_data/WebSight_188.html\n",
      "Processing ../all_data/682.html\n",
      "Processing ../all_data/378.html\n",
      "Processing ../all_data/WebSight_167.html\n",
      "Processing ../all_data/WebSight_219.html\n",
      "Processing ../all_data/WebSight_54.html\n",
      "Processing ../all_data/1176.html\n",
      "Processing ../all_data/513.html\n",
      "Processing ../all_data/1199.html\n",
      "Processing ../all_data/905.html\n",
      "Processing ../all_data/WebSight_130.html\n",
      "Processing ../all_data/60.html\n",
      "Processing ../all_data/WebSight_262.html\n",
      "Processing ../all_data/568.html\n",
      "Processing ../all_data/211.html\n",
      "Processing ../all_data/WebSight_97.html\n",
      "Processing ../all_data/495.html\n",
      "Processing ../all_data/WebSight_78.html\n",
      "Processing ../all_data/WebSight_235.html\n",
      "Processing ../all_data/WebSight_81.html\n",
      "Processing ../all_data/WebSight_223.html\n",
      "Processing ../all_data/99.html\n",
      "Processing ../all_data/WebSight_39.html\n",
      "Processing ../all_data/WebSight_274.html\n",
      "Processing ../all_data/WebSight_7.html\n",
      "Processing ../all_data/342.html\n",
      "Processing ../all_data/WebSight_203.html\n",
      "Processing ../all_data/159.html\n",
      "Processing ../all_data/509.html\n",
      "Processing ../all_data/WebSight_192.html\n",
      "Processing ../all_data/362.html\n",
      "Processing ../all_data/227.html\n",
      "Processing ../all_data/WebSight_19.html\n",
      "Processing ../all_data/WebSight_254.html\n",
      "Processing ../all_data/WebSight_184.html\n",
      "Processing ../all_data/WebSight_242.html\n",
      "Processing ../all_data/1087.html\n",
      "Processing ../all_data/266.html\n",
      "Processing ../all_data/WebSight_58.html\n",
      "Processing ../all_data/WebSight_215.html\n",
      "Processing ../all_data/909.html\n",
      "Processing ../all_data/1195.html\n",
      "Processing ../all_data/WebSight_147.html\n",
      "Processing ../all_data/WebSight_281.html\n",
      "Processing ../all_data/WebSight_23.html\n",
      "Processing ../all_data/WebSight_110.html\n",
      "Processing ../all_data/1013.html\n",
      "Processing ../all_data/WebSight_239.html\n",
      "Processing ../all_data/WebSight_74.html\n",
      "Processing ../all_data/WebSight_106.html\n",
      "Processing ../all_data/899.html\n",
      "Processing ../all_data/WebSight_62.html\n",
      "Processing ../all_data/WebSight_151.html\n",
      "Processing ../all_data/WebSight_297.html\n",
      "Processing ../all_data/WebSight_278.html\n",
      "Processing ../all_data/WebSight_35.html\n",
      "Processing ../all_data/1053.html\n",
      "Processing ../all_data/WebSight_296.html\n",
      "Processing ../all_data/820.html\n",
      "Processing ../all_data/WebSight_279.html\n",
      "Processing ../all_data/WebSight_34.html\n",
      "Processing ../all_data/WebSight_150.html\n",
      "Processing ../all_data/WebSight_63.html\n",
      "Processing ../all_data/WebSight_107.html\n",
      "Processing ../all_data/318.html\n",
      "Processing ../all_data/WebSight_238.html\n",
      "Processing ../all_data/WebSight_75.html\n",
      "Processing ../all_data/532.html\n",
      "Processing ../all_data/WebSight_111.html\n",
      "Processing ../all_data/WebSight_280.html\n",
      "Processing ../all_data/6.html\n",
      "Processing ../all_data/WebSight_22.html\n",
      "Processing ../all_data/WebSight_146.html\n",
      "Processing ../all_data/WebSight_59.html\n",
      "Processing ../all_data/WebSight_214.html\n",
      "Processing ../all_data/322.html\n",
      "Processing ../all_data/WebSight_243.html\n",
      "Processing ../all_data/1086.html\n",
      "Processing ../all_data/WebSight_185.html\n",
      "Processing ../all_data/230.html\n",
      "Processing ../all_data/WebSight_18.html\n",
      "Processing ../all_data/WebSight_255.html\n",
      "Processing ../all_data/WebSight_193.html\n",
      "Processing ../all_data/363.html\n",
      "Processing ../all_data/1213.html\n",
      "Processing ../all_data/WebSight_202.html\n",
      "Processing ../all_data/1028.html\n",
      "Processing ../all_data/621.html\n",
      "Processing ../all_data/206.html\n",
      "Processing ../all_data/WebSight_6.html\n",
      "Processing ../all_data/98.html\n",
      "Processing ../all_data/WebSight_38.html\n",
      "Processing ../all_data/WebSight_275.html\n",
      "Processing ../all_data/77.html\n",
      "Processing ../all_data/251.html\n",
      "Processing ../all_data/314.html\n",
      "Processing ../all_data/WebSight_80.html\n",
      "Processing ../all_data/WebSight_222.html\n",
      "Processing ../all_data/178.html\n",
      "Processing ../all_data/882.html\n",
      "Processing ../all_data/181.html\n",
      "Processing ../all_data/WebSight_96.html\n",
      "Processing ../all_data/WebSight_79.html\n",
      "Processing ../all_data/WebSight_234.html\n",
      "Processing ../all_data/640.html\n",
      "Processing ../all_data/61.html\n",
      "Processing ../all_data/WebSight_263.html\n",
      "Processing ../all_data/WebSight_131.html\n",
      "Processing ../all_data/WebSight_218.html\n",
      "Processing ../all_data/WebSight_55.html\n",
      "Processing ../all_data/512.html\n",
      "Processing ../all_data/WebSight_189.html\n",
      "Processing ../all_data/396.html\n",
      "Processing ../all_data/WebSight_166.html\n",
      "Processing ../all_data/695.html\n",
      "Processing ../all_data/WebSight_170.html\n",
      "Processing ../all_data/WebSight_259.html\n",
      "Processing ../all_data/WebSight_14.html\n",
      "Processing ../all_data/WebSight_127.html\n",
      "Processing ../all_data/WebSight_43.html\n",
      "Processing ../all_data/1024.html\n"
     ]
    }
   ],
   "source": [
    "from utils import *\n",
    "import csv\n",
    "# compute nodes count for each html file in the directory\n",
    "def process_html_files_in_directory(directory, output_csv):\n",
    "    html_files = [f for f in os.listdir(directory) if f.endswith('.html')]\n",
    "    driver = get_driver(string=\"<html></html>\")\n",
    "    \n",
    "    with open(output_csv, mode='w', newline='', encoding='utf-8') as file:\n",
    "        writer = csv.writer(file)\n",
    "        writer.writerow([\"Filename\", \"Node_Count\"])\n",
    "        \n",
    "        for filename in tqdm(html_files, desc=\"Processing\"):\n",
    "            file_path = os.path.join(directory, filename)\n",
    "            try:\n",
    "                print(f\"Processing {file_path}\")\n",
    "                driver.get(\"file:///\" + os.path.abspath(file_path))\n",
    "                node_count = num_of_nodes(driver)\n",
    "                writer.writerow([filename, node_count])\n",
    "            except Exception as e:\n",
    "                print(f\"[ERROR] {filename}: {e}\")\n",
    "    driver.quit()\n",
    "\n",
    "directory = '../all_data/'\n",
    "output_csv = 'node_counts.csv'\n",
    "process_html_files_in_directory(directory, output_csv)"
   ]
  },
  {
   "cell_type": "markdown",
   "metadata": {},
   "source": [
    "# compute number of tags"
   ]
  },
  {
   "cell_type": "code",
   "execution_count": 22,
   "metadata": {},
   "outputs": [
    {
     "data": {
      "application/vnd.jupyter.widget-view+json": {
       "model_id": "a82ba2e22cb14c33b20dfa3bf3cfff2b",
       "version_major": 2,
       "version_minor": 0
      },
      "text/plain": [
       "Processing:   0%|          | 0/498 [00:00<?, ?it/s]"
      ]
     },
     "metadata": {},
     "output_type": "display_data"
    }
   ],
   "source": [
    "from utils import *\n",
    "import csv\n",
    "# from single_file_cli import crawl\n",
    "# crawl(600, 1200, \"./data\") # this will be extremely slow so you may need to use multiprocess or multithread to run several \n",
    "\n",
    "# driver = get_driver(file=\"./1c.html\")\n",
    "# node_count = num_of_nodes(driver)\n",
    "# print(f\"Number of nodes in the HTML file: {node_count}\")\n",
    "# driver.quit()\n",
    "def gettag_html_files_in_directory(directory, output_csv):\n",
    "    html_files = [f for f in os.listdir(directory) if f.endswith('.html')]\n",
    "    driver = get_driver(string=\"<html></html>\")\n",
    "    \n",
    "    with open(output_csv, mode='w', newline='', encoding='utf-8') as file:\n",
    "        writer = csv.writer(file)\n",
    "        writer.writerow([\"Filename\", \"Tag_Count\"])\n",
    "        \n",
    "        for filename in tqdm(html_files, desc=\"Processing\"):\n",
    "            file_path = os.path.join(directory, filename)\n",
    "            try:\n",
    "                driver.get(\"file:///\" + os.path.abspath(file_path))\n",
    "                node_count = num_of_tags(driver)\n",
    "                writer.writerow([filename, node_count])\n",
    "            except Exception as e:\n",
    "                print(f\"[ERROR] {filename}: {e}\")\n",
    "    driver.quit()\n",
    "\n",
    "directory = '../all_data'\n",
    "output_csv = 'tag_counts.csv'\n",
    "gettag_html_files_in_directory(directory, output_csv)"
   ]
  },
  {
   "cell_type": "markdown",
   "metadata": {},
   "source": [
    "# number of unique tags"
   ]
  },
  {
   "cell_type": "code",
   "execution_count": 23,
   "metadata": {},
   "outputs": [
    {
     "data": {
      "application/vnd.jupyter.widget-view+json": {
       "model_id": "12243687179740a9ae18367928435ef9",
       "version_major": 2,
       "version_minor": 0
      },
      "text/plain": [
       "Processing:   0%|          | 0/498 [00:00<?, ?it/s]"
      ]
     },
     "metadata": {},
     "output_type": "display_data"
    }
   ],
   "source": [
    "from utils import *\n",
    "import csv\n",
    "\n",
    "def uniquetag_html_files_in_directory(directory, output_csv):\n",
    "    html_files = [f for f in os.listdir(directory) if f.endswith('.html')]\n",
    "    driver = get_driver(string=\"<html></html>\")\n",
    "    \n",
    "    with open(output_csv, mode='w', newline='', encoding='utf-8') as file:\n",
    "        writer = csv.writer(file)\n",
    "        writer.writerow([\"Filename\", \"Unique_Tag_Count\"])\n",
    "        \n",
    "        for filename in tqdm(html_files, desc=\"Processing\"):\n",
    "            file_path = os.path.join(directory, filename)\n",
    "            try:\n",
    "                driver.get(\"file:///\" + os.path.abspath(file_path))\n",
    "                node_count = num_of_unique_tags(driver)\n",
    "                writer.writerow([filename, node_count])\n",
    "            except Exception as e:\n",
    "                print(f\"[ERROR] {filename}: {e}\")\n",
    "    driver.quit()\n",
    "\n",
    "directory = '../all_data'\n",
    "output_csv = 'unique_tag_counts.csv'\n",
    "uniquetag_html_files_in_directory(directory, output_csv)"
   ]
  },
  {
   "cell_type": "markdown",
   "metadata": {},
   "source": [
    "# compute depth"
   ]
  },
  {
   "cell_type": "code",
   "execution_count": 1,
   "metadata": {},
   "outputs": [
    {
     "data": {
      "application/vnd.jupyter.widget-view+json": {
       "model_id": "6f4949aa09b34623b24fde3838bea5a8",
       "version_major": 2,
       "version_minor": 0
      },
      "text/plain": [
       "Processing:   0%|          | 0/498 [00:00<?, ?it/s]"
      ]
     },
     "metadata": {},
     "output_type": "display_data"
    }
   ],
   "source": [
    "from utils import *\n",
    "import csv\n",
    "\n",
    "def depth_html_files_in_directory(directory, output_csv):\n",
    "    html_files = [f for f in os.listdir(directory) if f.endswith('.html')]\n",
    "    driver = get_driver(string=\"<html></html>\")\n",
    "    \n",
    "    with open(output_csv, mode='w', newline='', encoding='utf-8') as file:\n",
    "        writer = csv.writer(file)\n",
    "        writer.writerow([\"Filename\", \"MOD_Depth_Count\"])\n",
    "        \n",
    "        for filename in tqdm(html_files, desc=\"Processing\"):\n",
    "            file_path = os.path.join(directory, filename)\n",
    "            try:\n",
    "                driver.get(\"file:///\" + os.path.abspath(file_path))\n",
    "                node_count = dom_tree_depth(driver)\n",
    "                writer.writerow([filename, node_count])\n",
    "            except Exception as e:\n",
    "                print(f\"[ERROR] {filename}: {e}\")\n",
    "    driver.quit()\n",
    "\n",
    "directory = '../all_data'\n",
    "output_csv = 'depth_counts.csv'\n",
    "depth_html_files_in_directory(directory, output_csv)"
   ]
  },
  {
   "cell_type": "markdown",
   "metadata": {},
   "source": [
    "# count tokens"
   ]
  },
  {
   "cell_type": "code",
   "execution_count": 15,
   "metadata": {},
   "outputs": [
    {
     "name": "stderr",
     "output_type": "stream",
     "text": [
      "Processing:   0%|          | 0/498 [00:00<?, ?it/s]Token indices sequence length is longer than the specified maximum sequence length for this model (19740 > 1024). Running this sequence through the model will result in indexing errors\n",
      "Processing: 100%|██████████| 498/498 [01:02<00:00,  7.93it/s]\n"
     ]
    }
   ],
   "source": [
    "import os\n",
    "import csv\n",
    "from transformers import GPT2Tokenizer\n",
    "from tqdm import tqdm\n",
    "\n",
    "def count_tokens_in_html_files(directory, output_csv):\n",
    "    tokenizer = GPT2Tokenizer.from_pretrained(\"gpt2\")\n",
    "    html_files = [f for f in os.listdir(directory) if f.endswith('.html')]\n",
    "\n",
    "    with open(output_csv, mode='w', newline='', encoding='utf-8') as file:\n",
    "        writer = csv.writer(file)\n",
    "        writer.writerow([\"Filename\", \"Token_Count\"])\n",
    "        for filename in tqdm(html_files, desc=\"Processing\"):\n",
    "            file_path = os.path.join(directory, filename)\n",
    "            try:\n",
    "                with open(file_path, 'r', encoding='utf-8') as f:\n",
    "                    content = f.read()\n",
    "                \n",
    "                tokens = tokenizer.encode(content)\n",
    "                token_count = len(tokens)\n",
    "                \n",
    "                writer.writerow([filename, token_count])\n",
    "                # print(f\"[INFO] Processed {filename}: {token_count} tokens\")\n",
    "            except Exception as e:\n",
    "                print(f\"[ERROR] {filename}: {e}\")\n",
    "\n",
    "directory = '../all_data'\n",
    "output_csv = 'token_counts.csv'\n",
    "\n",
    "count_tokens_in_html_files(directory, output_csv)"
   ]
  },
  {
   "cell_type": "markdown",
   "metadata": {},
   "source": [
    "# Calculate action list length"
   ]
  },
  {
   "cell_type": "code",
   "execution_count": 4,
   "metadata": {},
   "outputs": [
    {
     "name": "stderr",
     "output_type": "stream",
     "text": [
      "Processing: 100%|██████████| 500/500 [00:03<00:00, 137.27it/s]\n"
     ]
    }
   ],
   "source": [
    "import os\n",
    "import csv\n",
    "from tqdm import tqdm\n",
    "def get_action_list_len(directory, output_csv):\n",
    "    json_files = [f for f in os.listdir(directory) if f.endswith('.json')]\n",
    "    \n",
    "    with open(output_csv, mode='w', newline='', encoding='utf-8') as file:\n",
    "        writer = csv.writer(file)\n",
    "        writer.writerow([\"Filename\", \"Action_List_Len\"])\n",
    "        for filename in tqdm(json_files, desc=\"Processing\"):\n",
    "            file_path = os.path.join(directory, filename)\n",
    "            try:\n",
    "                with open(file_path, 'r', encoding='utf-8') as f:\n",
    "                    data = json.load(f)\n",
    "                    writer.writerow([filename, len(data)])\n",
    "            except Exception as e:\n",
    "                print(f\"[ERROR] {filename}: {e}\")\n",
    "\n",
    "directory = '../all_data'\n",
    "output_csv = 'action_list_len.csv'\n",
    "\n",
    "get_action_list_len(directory, output_csv)"
   ]
  },
  {
   "cell_type": "markdown",
   "metadata": {},
   "source": [
    "# Merge result and calculate statistics"
   ]
  },
  {
   "cell_type": "code",
   "execution_count": 11,
   "metadata": {},
   "outputs": [
    {
     "name": "stdout",
     "output_type": "stream",
     "text": [
      "[INFO] CSV files have been successfully merged into stat.csv\n"
     ]
    }
   ],
   "source": [
    "import pandas as pd\n",
    "\n",
    "def merge_csv_files(file_list, output_csv):\n",
    "    combined_df = pd.read_csv(file_list[0])\n",
    "    for file in file_list[1:]:\n",
    "        df = pd.read_csv(file)\n",
    "        # replace windows backslash with unix forward slash\n",
    "        df['Filename'] = df['Filename'].str.replace('.json', '.html')\n",
    "        combined_df = pd.merge(combined_df, df, how='inner', on='Filename')\n",
    "    combined_df.to_csv(output_csv, index=False, encoding='utf-8')\n",
    "\n",
    "csv_files = ['node_counts.csv', 'tag_counts.csv', 'unique_tag_counts.csv', 'depth_counts.csv', 'token_counts.csv', 'action_list_len.csv']\n",
    "\n",
    "output_csv = 'stat.csv'\n",
    "\n",
    "merge_csv_files(csv_files, output_csv)\n",
    "\n",
    "print(f\"[INFO] CSV files have been successfully merged into {output_csv}\")"
   ]
  },
  {
   "cell_type": "code",
   "execution_count": 12,
   "metadata": {},
   "outputs": [
    {
     "name": "stdout",
     "output_type": "stream",
     "text": [
      "      Dataset  Size Avg Length (tokens) Avg Tag Count Avg DOM Depth  \\\n",
      "0   Synthetic   300             692±227          18±7           5±1   \n",
      "1  Real World   198       113724±139761       543±768          15±6   \n",
      "\n",
      "  Avg Unique Tags Avg Action List Length  \n",
      "0            10±3                    3±2  \n",
      "1            22±8                 92±130  \n"
     ]
    }
   ],
   "source": [
    "import pandas as pd\n",
    "\n",
    "# Load the CSV file\n",
    "file_path = 'stat.csv'\n",
    "data = pd.read_csv(file_path)\n",
    "\n",
    "# Separate the data based on the filename prefix to distinguish \"WebSight\" files from numbered files\n",
    "websight_data = data[data['Filename'].str.contains(\"WebSight\", case=False)]\n",
    "numbered_data = data[~data['Filename'].str.contains(\"WebSight\", case=False)]\n",
    "\n",
    "# Calculate statistics for each group\n",
    "statistics = {\n",
    "    \"Dataset\": [\"Synthetic\", \"Real World\"],\n",
    "    \"Size\": [len(websight_data), len(numbered_data)],\n",
    "    \"Avg Length (tokens)\": [\n",
    "        f\"{websight_data['Token_Count'].mean():.0f}±{websight_data['Token_Count'].std():.0f}\",\n",
    "        f\"{numbered_data['Token_Count'].mean():.0f}±{numbered_data['Token_Count'].std():.0f}\",\n",
    "    ],\n",
    "    \"Avg Tag Count\": [\n",
    "        f\"{websight_data['Tag_Count'].mean():.0f}±{websight_data['Tag_Count'].std():.0f}\",\n",
    "        f\"{numbered_data['Tag_Count'].mean():.0f}±{numbered_data['Tag_Count'].std():.0f}\",\n",
    "    ],\n",
    "    \"Avg DOM Depth\": [\n",
    "        f\"{websight_data['MOD_Depth_Count'].mean():.0f}±{websight_data['MOD_Depth_Count'].std():.0f}\",\n",
    "        f\"{numbered_data['MOD_Depth_Count'].mean():.0f}±{numbered_data['MOD_Depth_Count'].std():.0f}\",\n",
    "    ],\n",
    "    \"Avg Unique Tags\": [\n",
    "        f\"{websight_data['Unique_Tag_Count'].mean():.0f}±{websight_data['Unique_Tag_Count'].std():.0f}\",\n",
    "        f\"{numbered_data['Unique_Tag_Count'].mean():.0f}±{numbered_data['Unique_Tag_Count'].std():.0f}\",\n",
    "    ],\n",
    "    \"Avg Action List Length\": [\n",
    "        f\"{websight_data['Action_List_Len'].mean():.0f}±{websight_data['Action_List_Len'].std():.0f}\",\n",
    "        f\"{numbered_data['Action_List_Len'].mean():.0f}±{numbered_data['Action_List_Len'].std():.0f}\",\n",
    "    ],\n",
    "}\n",
    "\n",
    "# Create DataFrame to display statistics\n",
    "statistics_df = pd.DataFrame(statistics)\n",
    "statistics_df.to_csv('summary.csv', index=False, encoding='utf-8-sig')\n",
    "print(statistics_df)"
   ]
  },
  {
   "cell_type": "markdown",
   "metadata": {},
   "source": [
    "# Topic Distribution"
   ]
  },
  {
   "cell_type": "code",
   "execution_count": null,
   "metadata": {},
   "outputs": [
    {
     "name": "stderr",
     "output_type": "stream",
     "text": [
      "Processing:  88%|████████▊ | 440/498 [16:44<01:10,  1.22s/it] "
     ]
    },
    {
     "name": "stdout",
     "output_type": "stream",
     "text": [
      "Connection error.\n"
     ]
    },
    {
     "name": "stderr",
     "output_type": "stream",
     "text": [
      "Processing:  96%|█████████▋| 480/498 [44:56<00:29,  1.62s/it]   "
     ]
    },
    {
     "name": "stdout",
     "output_type": "stream",
     "text": [
      "Request timed out.\n"
     ]
    },
    {
     "name": "stderr",
     "output_type": "stream",
     "text": [
      "Processing:  97%|█████████▋| 481/498 [47:11<11:50, 41.79s/it]"
     ]
    },
    {
     "name": "stdout",
     "output_type": "stream",
     "text": [
      "Connection error.\n",
      "Connection error.\n",
      "Connection error.\n"
     ]
    },
    {
     "name": "stderr",
     "output_type": "stream",
     "text": [
      "Processing:  97%|█████████▋| 482/498 [1:38:46<4:15:23, 957.71s/it]"
     ]
    },
    {
     "name": "stdout",
     "output_type": "stream",
     "text": [
      "Connection error.\n",
      "Connection error.\n",
      "Connection error.\n"
     ]
    },
    {
     "name": "stderr",
     "output_type": "stream",
     "text": [
      "Processing:  97%|█████████▋| 483/498 [1:39:09<2:49:18, 677.23s/it]"
     ]
    },
    {
     "name": "stdout",
     "output_type": "stream",
     "text": [
      "Connection error.\n",
      "Connection error.\n",
      "Connection error.\n"
     ]
    },
    {
     "name": "stderr",
     "output_type": "stream",
     "text": [
      "Processing:  97%|█████████▋| 484/498 [1:41:07<1:58:54, 509.62s/it]"
     ]
    },
    {
     "name": "stdout",
     "output_type": "stream",
     "text": [
      "Connection error.\n",
      "Connection error.\n",
      "Connection error.\n"
     ]
    },
    {
     "name": "stderr",
     "output_type": "stream",
     "text": [
      "Processing:  97%|█████████▋| 485/498 [1:41:30<1:18:47, 363.63s/it]"
     ]
    },
    {
     "name": "stdout",
     "output_type": "stream",
     "text": [
      "Connection error.\n",
      "Connection error.\n",
      "Connection error.\n"
     ]
    },
    {
     "name": "stderr",
     "output_type": "stream",
     "text": [
      "Processing:  98%|█████████▊| 486/498 [1:43:52<59:24, 297.00s/it]  "
     ]
    },
    {
     "name": "stdout",
     "output_type": "stream",
     "text": [
      "Connection error.\n",
      "Connection error.\n",
      "Connection error.\n"
     ]
    },
    {
     "name": "stderr",
     "output_type": "stream",
     "text": [
      "Processing:  98%|█████████▊| 487/498 [1:44:15<39:23, 214.87s/it]"
     ]
    },
    {
     "name": "stdout",
     "output_type": "stream",
     "text": [
      "Connection error.\n",
      "Connection error.\n",
      "Connection error.\n"
     ]
    },
    {
     "name": "stderr",
     "output_type": "stream",
     "text": [
      "Processing:  98%|█████████▊| 488/498 [2:11:25<1:46:34, 639.43s/it]"
     ]
    },
    {
     "name": "stdout",
     "output_type": "stream",
     "text": [
      "Connection error.\n",
      "Connection error.\n",
      "Connection error.\n"
     ]
    },
    {
     "name": "stderr",
     "output_type": "stream",
     "text": [
      "Processing:  98%|█████████▊| 489/498 [2:11:48<1:08:08, 454.29s/it]"
     ]
    },
    {
     "name": "stdout",
     "output_type": "stream",
     "text": [
      "Connection error.\n",
      "Connection error.\n",
      "Connection error.\n"
     ]
    },
    {
     "name": "stderr",
     "output_type": "stream",
     "text": [
      "Processing:  98%|█████████▊| 490/498 [2:29:16<1:24:19, 632.45s/it]"
     ]
    },
    {
     "name": "stdout",
     "output_type": "stream",
     "text": [
      "Connection error.\n",
      "Connection error.\n",
      "Connection error.\n"
     ]
    },
    {
     "name": "stderr",
     "output_type": "stream",
     "text": [
      "Processing:  99%|█████████▊| 491/498 [2:29:39<52:28, 449.78s/it]  "
     ]
    },
    {
     "name": "stdout",
     "output_type": "stream",
     "text": [
      "Connection error.\n",
      "Connection error.\n",
      "Connection error.\n"
     ]
    },
    {
     "name": "stderr",
     "output_type": "stream",
     "text": [
      "Processing:  99%|█████████▉| 492/498 [3:12:38<1:48:51, 1088.59s/it]"
     ]
    },
    {
     "name": "stdout",
     "output_type": "stream",
     "text": [
      "Connection error.\n",
      "Connection error.\n",
      "Connection error.\n"
     ]
    },
    {
     "name": "stderr",
     "output_type": "stream",
     "text": [
      "Processing:  99%|█████████▉| 493/498 [3:13:01<1:04:04, 768.92s/it] "
     ]
    },
    {
     "name": "stdout",
     "output_type": "stream",
     "text": [
      "Connection error.\n",
      "Connection error.\n",
      "Connection error.\n"
     ]
    },
    {
     "name": "stderr",
     "output_type": "stream",
     "text": [
      "Processing: 100%|██████████| 498/498 [3:15:01<00:00, 23.50s/it]   \n"
     ]
    },
    {
     "ename": "NameError",
     "evalue": "name 'driver' is not defined",
     "output_type": "error",
     "traceback": [
      "\u001b[0;31m---------------------------------------------------------------------------\u001b[0m",
      "\u001b[0;31mNameError\u001b[0m                                 Traceback (most recent call last)",
      "Cell \u001b[0;32mIn[20], line 54\u001b[0m\n\u001b[1;32m     51\u001b[0m directory \u001b[38;5;241m=\u001b[39m \u001b[38;5;124m'\u001b[39m\u001b[38;5;124m../all_data\u001b[39m\u001b[38;5;124m'\u001b[39m\n\u001b[1;32m     52\u001b[0m output_csv \u001b[38;5;241m=\u001b[39m \u001b[38;5;124m'\u001b[39m\u001b[38;5;124mcategoties.csv\u001b[39m\u001b[38;5;124m'\u001b[39m\n\u001b[0;32m---> 54\u001b[0m \u001b[43mget_topic_distribution\u001b[49m\u001b[43m(\u001b[49m\u001b[43mdirectory\u001b[49m\u001b[43m,\u001b[49m\u001b[43m \u001b[49m\u001b[43moutput_csv\u001b[49m\u001b[43m)\u001b[49m\n",
      "Cell \u001b[0;32mIn[20], line 48\u001b[0m, in \u001b[0;36mget_topic_distribution\u001b[0;34m(directory, output_csv)\u001b[0m\n\u001b[1;32m     46\u001b[0m \t\t\u001b[38;5;28;01mexcept\u001b[39;00m \u001b[38;5;167;01mException\u001b[39;00m \u001b[38;5;28;01mas\u001b[39;00m e:\n\u001b[1;32m     47\u001b[0m \t\t\t\u001b[38;5;28mprint\u001b[39m(\u001b[38;5;124mf\u001b[39m\u001b[38;5;124m\"\u001b[39m\u001b[38;5;124m[ERROR] \u001b[39m\u001b[38;5;132;01m{\u001b[39;00mfilename\u001b[38;5;132;01m}\u001b[39;00m\u001b[38;5;124m: \u001b[39m\u001b[38;5;132;01m{\u001b[39;00me\u001b[38;5;132;01m}\u001b[39;00m\u001b[38;5;124m\"\u001b[39m)\n\u001b[0;32m---> 48\u001b[0m \u001b[43mdriver\u001b[49m\u001b[38;5;241m.\u001b[39mquit()\n",
      "\u001b[0;31mNameError\u001b[0m: name 'driver' is not defined"
     ]
    }
   ],
   "source": [
    "import sys\n",
    "sys.path.append('../../experiment/')\n",
    "from bots import GPT4\n",
    "from bs4 import BeautifulSoup\n",
    "\n",
    "PROMPT = \"\"\"\n",
    "Using the following HTML code, classify the website into one of the predefined categories, respond with the category only. Consider the site's structure, content, and layout based on the HTML snippet provided. The categories and their descriptions are as follows:\n",
    "\t1.\tCompany/Organization Site - Websites representing companies, organizations, or institutions. These typically contain information about the organization's mission, services, contact information, and may have sections for news, events, or product offerings.\n",
    "\t2.\tBlog - Personal or professional blogs, including technical blogs. Blogs generally have a chronological listing of articles or posts, author names, dates, tags, and may include a comments section.\n",
    "\t3.\tHomepage - Personal homepages or main landing pages that represent an individual. These may include personal information, portfolios, hobbies, or contact details and often serve as an individual’s online presence.\n",
    "\t4.\tInformation Site - Websites focused on sharing structured information, such as Wikipedia pages, FAQs, policy pages, online dictionaries, or encyclopedias. These sites often have static, reference-like content organized into sections or articles.\n",
    "\t5.\tForum - Online discussion forums or community boards where users post messages, replies, and engage in conversations. Forums typically have categories, threads, and user-generated content with timestamps and usernames.\n",
    "\t6.\tNews Site - News article pages or portals focused on current events. These usually have publication dates, author names, headlines, and structured content related to recent news or topics of public interest.\n",
    "\t7.\tProduct Page - Pages dedicated to product descriptions and specifications. These pages may include product images, pricing, features, customer reviews, and purchase options.\n",
    "\t8.\tOther - Any other genre that doesn't fit into the above categories. This may include niche or specialized types of websites not commonly categorized.\n",
    "\n",
    "HTML Code:\n",
    "\n",
    "\n",
    "[CODE]\n",
    "\n",
    "\n",
    "Based on this code, identify the category that best represents the website, respond with the category only.\n",
    "\"\"\"\n",
    "\n",
    "def get_html_body(html):\n",
    "\tsoup = BeautifulSoup(html, 'html.parser')\n",
    "\tbody = soup.find('body')\n",
    "\treturn body.text if body else soup.text\n",
    "\n",
    "def get_topic_distribution(directory, output_csv):\n",
    "\thtml_files = [f for f in os.listdir(directory) if f.endswith('.html')]\n",
    "\twith open(output_csv, mode='w', newline='', encoding='utf-8') as file:\n",
    "\t\twriter = csv.writer(file)\n",
    "\t\twriter.writerow([\"Filename\", \"Category\"])\n",
    "\t\tfor filename in tqdm(html_files, desc=\"Processing\"):\n",
    "\t\t\tfile_path = os.path.join(directory, filename)\n",
    "\t\t\ttry:\n",
    "\t\t\t\twith open(file_path, 'r', encoding='utf-8') as f:\n",
    "\t\t\t\t\tcontent = get_html_body(f.read())\n",
    "\t\t\t\t\tcontent = content[:len(content)//2] if len(content) > 100000 else content\n",
    "\t\t\t\tbot = GPT4(\"../../keys/gptkey.txt\")\n",
    "\t\t\t\tcategory = bot.try_ask(PROMPT.replace(\"[CODE]\", content))\n",
    "\t\t\t\twriter.writerow([filename, category])\n",
    "\n",
    "\t\t\texcept Exception as e:\n",
    "\t\t\t\tprint(f\"[ERROR] {filename}: {e}\")\n",
    "    \n",
    "\n",
    "directory = '../all_data'\n",
    "output_csv = 'categories.csv'\n",
    "\n",
    "get_topic_distribution(directory, output_csv)"
   ]
  },
  {
   "cell_type": "markdown",
   "metadata": {},
   "source": [
    "## Summarize"
   ]
  },
  {
   "cell_type": "code",
   "execution_count": 16,
   "metadata": {},
   "outputs": [
    {
     "data": {
      "image/png": "[encoded data removed]",
      "text/plain": [
       "<Figure size 600x600 with 1 Axes>"
      ]
     },
     "metadata": {},
     "output_type": "display_data"
    }
   ],
   "source": [
    "import pandas as pd\n",
    "categories = pd.read_csv('categories.csv')\n",
    "real_world = categories[~categories['Filename'].str.contains(\"WebSight\", case=False)].replace({\"Company/Organization Site\": \"Company/Org\", \"Product Page\": \"Product\", \"Information Site\": \"Information\", \"News Site\": \"News\"})\n",
    "# print the distribution of categories\n",
    "# print(real_world['Category'].value_counts())\n",
    "\n",
    "# draw a pie chart to visualize the distribution of categories\n",
    "import matplotlib.pyplot as plt\n",
    "# font size of x ticks\n",
    "plt.rc('xtick', labelsize=17)\n",
    "plt.figure(figsize=(6, 6))\n",
    "real_world['Category'].value_counts().plot.pie(autopct='%1.1f%%')\n",
    "# plt.title(\"Distribution of Website Categories in Real World Data\")\n",
    "plt.ylabel('')\n",
    "plt.tight_layout()\n",
    "plt.savefig('categories_pie_chart.pdf', bbox_inches='tight')"
   ]
  },
  {
   "cell_type": "code",
   "execution_count": null,
   "metadata": {},
   "outputs": [],
   "source": []
  }
 ],
 "metadata": {
  "kernelspec": {
   "display_name": "multipage",
   "language": "python",
   "name": "python3"
  },
  "language_info": {
   "codemirror_mode": {
    "name": "ipython",
    "version": 3
   },
   "file_extension": ".py",
   "mimetype": "text/x-python",
   "name": "python",
   "nbconvert_exporter": "python",
   "pygments_lexer": "ipython3",
   "version": "3.10.14"
  }
 },
 "nbformat": 4,
 "nbformat_minor": 2
}
